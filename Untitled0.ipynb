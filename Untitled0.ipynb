{
  "nbformat": 4,
  "nbformat_minor": 0,
  "metadata": {
    "colab": {
      "provenance": [],
      "authorship_tag": "ABX9TyN2bcBKha9tUwlACS7+GfVj",
      "include_colab_link": true
    },
    "kernelspec": {
      "name": "python3",
      "display_name": "Python 3"
    },
    "language_info": {
      "name": "python"
    }
  },
  "cells": [
    {
      "cell_type": "markdown",
      "metadata": {
        "id": "view-in-github",
        "colab_type": "text"
      },
      "source": [
        "<a href=\"https://colab.research.google.com/github/Sayanpal1234/Assingmentss/blob/main/Untitled0.ipynb\" target=\"_parent\"><img src=\"https://colab.research.google.com/assets/colab-badge.svg\" alt=\"Open In Colab\"/></a>"
      ]
    },
    {
      "cell_type": "markdown",
      "source": [
        "#**ASSINGMENT-1**"
      ],
      "metadata": {
        "id": "R4ok_MVdP2YQ"
      }
    },
    {
      "cell_type": "code",
      "source": [
        "#program to print \"Hello Python\""
      ],
      "metadata": {
        "id": "73KOkyezMqQs"
      },
      "execution_count": null,
      "outputs": []
    },
    {
      "cell_type": "code",
      "execution_count": 2,
      "metadata": {
        "colab": {
          "base_uri": "https://localhost:8080/"
        },
        "id": "wItJgH7pI0Dk",
        "outputId": "2a82479d-6e8e-427a-cd7e-41184aa18171"
      },
      "outputs": [
        {
          "output_type": "stream",
          "name": "stdout",
          "text": [
            "Hello Python\n"
          ]
        }
      ],
      "source": [
        "print(\"Hello Python\")"
      ]
    },
    {
      "cell_type": "code",
      "source": [
        "#progam to add and divide two numbers"
      ],
      "metadata": {
        "id": "e42lqh5MMi1z"
      },
      "execution_count": null,
      "outputs": []
    },
    {
      "cell_type": "code",
      "source": [
        "a=10\n",
        "b=5\n",
        "print(a+b)\n",
        "print(a/b)"
      ],
      "metadata": {
        "colab": {
          "base_uri": "https://localhost:8080/"
        },
        "id": "TGAsKfmuJUn2",
        "outputId": "c830d2b9-0dc7-489c-fdac-d8d9d9411a15"
      },
      "execution_count": 6,
      "outputs": [
        {
          "output_type": "stream",
          "name": "stdout",
          "text": [
            "15\n",
            "2.0\n"
          ]
        }
      ]
    },
    {
      "cell_type": "code",
      "source": [
        "#Area Of a Triangle\n",
        "#Area of Triangele= 0.5*base*hypotenuse\n",
        "base=5\n",
        "hypotenuse=10\n",
        "areaoftriangle= (0.5*base*hypotenuse)\n",
        "print(areaoftriangle)\n"
      ],
      "metadata": {
        "colab": {
          "base_uri": "https://localhost:8080/"
        },
        "id": "JfY0Z3F_J_rT",
        "outputId": "76713fe3-e55a-48e3-c2fe-dcb1f0cb5429"
      },
      "execution_count": 10,
      "outputs": [
        {
          "output_type": "stream",
          "name": "stdout",
          "text": [
            "25.0\n"
          ]
        }
      ]
    },
    {
      "cell_type": "code",
      "source": [
        "#area of triangle method 2\n",
        "base=float(input(\"base: \"))\n",
        "hyp=float(input(\"hyp: \"))\n",
        "area=0.5*base*hyp\n",
        "print(area)\n"
      ],
      "metadata": {
        "colab": {
          "base_uri": "https://localhost:8080/"
        },
        "id": "K4wfc6-lLRnW",
        "outputId": "909eb531-aa8e-4410-cb91-adcc2b6367d0"
      },
      "execution_count": 12,
      "outputs": [
        {
          "output_type": "stream",
          "name": "stdout",
          "text": [
            "base: 20\n",
            "hyp: 10\n",
            "100.0\n"
          ]
        }
      ]
    },
    {
      "cell_type": "code",
      "source": [
        "#program to swap two numbers"
      ],
      "metadata": {
        "id": "3KyfW6YBN8qd"
      },
      "execution_count": null,
      "outputs": []
    },
    {
      "cell_type": "code",
      "source": [
        "a=13\n",
        "b=90\n",
        "alpha=a\n",
        "a=b\n",
        "b=alpha\n",
        "print(a)\n",
        "print(b)\n"
      ],
      "metadata": {
        "colab": {
          "base_uri": "https://localhost:8080/"
        },
        "id": "PfACcT3iNoLU",
        "outputId": "68c75fd6-0521-4950-8a3a-c4b26178c7ee"
      },
      "execution_count": 15,
      "outputs": [
        {
          "output_type": "stream",
          "name": "stdout",
          "text": [
            "90\n",
            "13\n"
          ]
        }
      ]
    },
    {
      "cell_type": "code",
      "source": [
        "#program to generate a random number\n",
        "import random\n",
        "a= random.random()\n",
        "print(a)"
      ],
      "metadata": {
        "colab": {
          "base_uri": "https://localhost:8080/"
        },
        "id": "gP6XmEiXPV6z",
        "outputId": "1711f15e-22f1-4b90-c144-35392fb28ace"
      },
      "execution_count": 19,
      "outputs": [
        {
          "output_type": "stream",
          "name": "stdout",
          "text": [
            "0.2653184837060255\n"
          ]
        }
      ]
    },
    {
      "cell_type": "code",
      "source": [
        "#program to generate a random number\n",
        "import random #importing the random module\n",
        "a=int(input(\"a= \"))\n",
        "b=int(input(\"b= \"))\n",
        "random.randint(a,b) #using randint function to generate a random number between 0 to 1000000"
      ],
      "metadata": {
        "colab": {
          "base_uri": "https://localhost:8080/"
        },
        "id": "WOt2Ng4vOBgb",
        "outputId": "96096510-e101-4846-e690-aa2dcfdf8855"
      },
      "execution_count": 18,
      "outputs": [
        {
          "name": "stdout",
          "output_type": "stream",
          "text": [
            "a= 0\n",
            "b= 1000000\n"
          ]
        },
        {
          "output_type": "execute_result",
          "data": {
            "text/plain": [
              "593604"
            ]
          },
          "metadata": {},
          "execution_count": 18
        }
      ]
    }
  ]
}